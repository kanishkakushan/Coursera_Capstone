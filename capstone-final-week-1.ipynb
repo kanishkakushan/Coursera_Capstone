{
    "cells": [
        {
            "cell_type": "markdown",
            "metadata": {
                "collapsed": true
            },
            "source": "# Finding best place to open Mughlai Restaurant in Kolkata"
        },
        {
            "cell_type": "markdown",
            "metadata": {},
            "source": "## Introduction"
        },
        {
            "cell_type": "markdown",
            "metadata": {},
            "source": "### Background"
        },
        {
            "cell_type": "markdown",
            "metadata": {},
            "source": "Kolkata, formerly known as Calcutta, is the educational, commercial and cultural centre of the Eastern part of India, and is the third most populous metropolitan city of India. Kolkata is a pioneer in the field of drama, arts, theatre and literature with several nobel laureates contributing to the Kolkata culture. But one thing people seems to forget about is the food of Kolkata. Somewhere between Rossogollas and lip-smacking fish preparations, many rich Bengali delicacies go unnoticed. And one such delicacy is the Kolkata Biryani. One can also blame the greater popularity of its southern counterpart - Hyderabadi Biryani, which might have for long prevented the Kolkata Biryani to flourish in all its glory. But Kolkata Biryani is slowly working its way out of the canals of the City of Joy and gaining the due recognition it has long deserved."
        },
        {
            "cell_type": "markdown",
            "metadata": {},
            "source": "### Business Problem"
        },
        {
            "cell_type": "markdown",
            "metadata": {},
            "source": "The aim of this project is to find out the best place in Kolkata to open a Mughlai Restaurant. In this project, leveraging venue data from Foursquare's 'Places AP' and 'k-means clustering' unsupervised machine learning algorithm, we will try to answer the question if someone want to open a Mughlai Restaurant in Kolkata which is the best best for it."
        },
        {
            "cell_type": "markdown",
            "metadata": {},
            "source": "## Data"
        },
        {
            "cell_type": "markdown",
            "metadata": {},
            "source": "For this project, we need to have the below data:\n\n* The List of the Neighborhood in Kolkata, India. This will help us to narrow down the place to a specific location to open the new restaurant.\n\n* The Longitude and Latitude cordinates of the Kolkata Neighborhoods. This will help us to plot and visulaize each location on the map of Kolkata.\n\n* The data about the venues in these nighborhood, precisely related Mughlai Restaurant which will help us in clustering of neighborhoods."
        },
        {
            "cell_type": "markdown",
            "metadata": {},
            "source": "### Data Sources"
        },
        {
            "cell_type": "markdown",
            "metadata": {},
            "source": "1. We have collected the neighborhood data of Kolkata from Wikipedia using web scrapping. Then we have collected the latitude and longitude coodinates usin Python Geocoder Package.\n2. For the venue data we have used Foursquare API to make RESTful API calls to retrieve data about venues in different neighborhoods."
        },
        {
            "cell_type": "code",
            "execution_count": null,
            "metadata": {},
            "outputs": [],
            "source": ""
        }
    ],
    "metadata": {
        "kernelspec": {
            "display_name": "Python 3.7",
            "language": "python",
            "name": "python3"
        },
        "language_info": {
            "codemirror_mode": {
                "name": "ipython",
                "version": 3
            },
            "file_extension": ".py",
            "mimetype": "text/x-python",
            "name": "python",
            "nbconvert_exporter": "python",
            "pygments_lexer": "ipython3",
            "version": "3.7.9"
        }
    },
    "nbformat": 4,
    "nbformat_minor": 1
}